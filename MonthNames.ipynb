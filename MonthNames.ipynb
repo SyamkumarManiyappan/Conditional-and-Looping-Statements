{
 "cells": [
  {
   "cell_type": "code",
   "execution_count": 13,
   "id": "77cedce3-e281-4e38-a32d-72489a1e9fef",
   "metadata": {},
   "outputs": [
    {
     "name": "stdin",
     "output_type": "stream",
     "text": [
      "Enter a Month  Number: 11\n"
     ]
    },
    {
     "name": "stdout",
     "output_type": "stream",
     "text": [
      "The Month is November\n"
     ]
    }
   ],
   "source": [
    "i= int (input ('Enter a Month  Number:'))\n",
    "if i==1:\n",
    "  print('The Month is January')\n",
    "elif i== 2:\n",
    "  print('Then Month is February')\n",
    "elif i== 3:\n",
    "  print('The Month is March')\n",
    "elif i==4:\n",
    "  print('The Month is April')\n",
    "elif i==5:\n",
    "  print('The Month is May')\n",
    "elif i==6:\n",
    "  print('The Month is June')\n",
    "elif i==7:\n",
    "  print('The Month is July')\n",
    "elif i==8:\n",
    "  print('The Month is Auguest')\n",
    "elif i==9:\n",
    "  print('The Month is September')\n",
    "elif i==10:\n",
    "  print('The Month is October')\n",
    "elif i==11:\n",
    "  print('The Month is November')\n",
    "elif i==12:\n",
    "  print ('The Month is December')\n",
    "else:\n",
    "  print('Wrong input')\n"
   ]
  },
  {
   "cell_type": "code",
   "execution_count": null,
   "id": "60a9f7d2-5820-4f6f-b94b-831c51f5da51",
   "metadata": {},
   "outputs": [],
   "source": []
  }
 ],
 "metadata": {
  "kernelspec": {
   "display_name": "Python 3 (ipykernel)",
   "language": "python",
   "name": "python3"
  },
  "language_info": {
   "codemirror_mode": {
    "name": "ipython",
    "version": 3
   },
   "file_extension": ".py",
   "mimetype": "text/x-python",
   "name": "python",
   "nbconvert_exporter": "python",
   "pygments_lexer": "ipython3",
   "version": "3.12.7"
  }
 },
 "nbformat": 4,
 "nbformat_minor": 5
}
