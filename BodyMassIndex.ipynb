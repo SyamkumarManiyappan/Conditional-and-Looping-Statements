{
 "cells": [
  {
   "cell_type": "markdown",
   "id": "576a8ebc-cb55-4edd-ab82-3ed3a3531539",
   "metadata": {},
   "source": [
    "## Exercise 3\n",
    "Name your file: BodyMassIndex.py\n",
    "Write a program to calculate your BMI and give weight status. Body Mass Index (BMI) is an internationally used measurement to check if you are a healthy weight for your height.The metric BMI formula accepts weight in kilograms and height in meters:\n",
    "BMI= weight(kg)/height2(m2)\n",
    "BMI Weight Status Categories table\n",
    "BMI range - kg/m2   Category\n",
    "Below 18.5                    Underweight\n",
    "18.5 -24.9         Normal\n",
    "25 - 29.9          Overweight\n",
    "30 & Above     Obese\n",
    "An example run of the program (numbers in bold are typed in by the user)\n",
    "Enter your weight in (kg): 75\n",
    "Enter your height in (m): 1.70\n",
    "Your BMI is: 25.95\n",
    "You are in the “overweight” range.\n"
   ]
  },
  {
   "cell_type": "code",
   "execution_count": 2,
   "id": "21a817ef-e883-4c88-baf1-f968017bd854",
   "metadata": {},
   "outputs": [
    {
     "name": "stdin",
     "output_type": "stream",
     "text": [
      "Enter your weight in (kg):  80\n",
      "Enter your height in (m):  1.52\n"
     ]
    },
    {
     "name": "stdout",
     "output_type": "stream",
     "text": [
      "Your BMI is: 34.63\n",
      "You are in the “Obese” range.\n"
     ]
    }
   ],
   "source": [
    "weight = float(input(\"Enter your weight in (kg): \"))\n",
    "height = float(input(\"Enter your height in (m): \"))\n",
    "bmi = weight / (height ** 2)\n",
    "if bmi < 18.5:\n",
    "    status = \"Underweight\"\n",
    "elif 18.5 <= bmi < 25:\n",
    "    status = \"Normal\"\n",
    "elif 25 <= bmi < 30:\n",
    "    status = \"Overweight\"\n",
    "else:\n",
    "    status = \"Obese\"\n",
    "print(f\"Your BMI is: {bmi:.2f}\")\n",
    "print(f\"You are in the “{status}” range.\")"
   ]
  },
  {
   "cell_type": "code",
   "execution_count": null,
   "id": "48b2da9b-2c9b-4ee2-b3a1-92d6eaa70acb",
   "metadata": {},
   "outputs": [],
   "source": []
  }
 ],
 "metadata": {
  "kernelspec": {
   "display_name": "Python 3 (ipykernel)",
   "language": "python",
   "name": "python3"
  },
  "language_info": {
   "codemirror_mode": {
    "name": "ipython",
    "version": 3
   },
   "file_extension": ".py",
   "mimetype": "text/x-python",
   "name": "python",
   "nbconvert_exporter": "python",
   "pygments_lexer": "ipython3",
   "version": "3.12.7"
  }
 },
 "nbformat": 4,
 "nbformat_minor": 5
}
