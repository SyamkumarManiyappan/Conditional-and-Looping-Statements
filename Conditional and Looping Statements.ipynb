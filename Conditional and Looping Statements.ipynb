{
 "cells": [
  {
   "cell_type": "markdown",
   "id": "770f785f-3523-4caa-99de-66b64638f484",
   "metadata": {},
   "source": [
    "## Exercise 2\n",
    "A certain cinema currently sells tickets for a full price of 6 pounds, but always sells tickets for half price to people who are less than 16 years old, and for a third of the price for people who are 60 years old or more.\n",
    "An example run of the program (numbers in bold are typed in by the user)\n",
    "Enter your age: 63\n",
    "Your ticket costs £2.00"
   ]
  },
  {
   "cell_type": "code",
   "execution_count": 16,
   "id": "3b35c072-cfbe-4fee-af9c-1f18b246f3e4",
   "metadata": {},
   "outputs": [
    {
     "name": "stdin",
     "output_type": "stream",
     "text": [
      "enter your age: 12\n"
     ]
    },
    {
     "name": "stdout",
     "output_type": "stream",
     "text": [
      "Your ticket Price 3.0\n"
     ]
    }
   ],
   "source": [
    "age=int(input('enter your age:'))\n",
    "fullprice=6.00\n",
    "if age<16:\n",
    "    ticketprice=fullprice/2\n",
    "elif age>=60:\n",
    "    ticketprice=fullprice/3\n",
    "else:\n",
    "    ticketprice=fullprice\n",
    "\n",
    "print(f\"Your ticket Price {ticketprice:.2}\")"
   ]
  },
  {
   "cell_type": "markdown",
   "id": "632c7861-e341-4800-ba67-7dae7abf178a",
   "metadata": {},
   "source": [
    "## Exercise 4\n",
    "Write a Python program to receive 3 numbers from the user and print the greatest among them."
   ]
  },
  {
   "cell_type": "code",
   "execution_count": 18,
   "id": "175326d2-ebff-41af-9865-e894dfb4cd45",
   "metadata": {},
   "outputs": [
    {
     "name": "stdin",
     "output_type": "stream",
     "text": [
      "Enter the 1st number: 1\n",
      "Enter the 2nd number: 2\n",
      "Enter the 3ed number: 5\n"
     ]
    },
    {
     "name": "stdout",
     "output_type": "stream",
     "text": [
      "the greatest number is: 5.0\n"
     ]
    }
   ],
   "source": [
    "n1=float(input(\"Enter the 1st number:\"))\n",
    "n2=float(input(\"Enter the 2nd number:\"))\n",
    "n3=float(input(\"Enter the 3ed number:\")) \n",
    "greatest=max(n1,n2,n3)\n",
    "print('the greatest number is:',greatest)"
   ]
  },
  {
   "cell_type": "markdown",
   "id": "18790517-aa3e-4526-8bad-2c9c0139fd14",
   "metadata": {},
   "source": [
    "## Exercise 5\n",
    "Find the factorial of a given number using loops(note the number is received from the user)\n"
   ]
  },
  {
   "cell_type": "code",
   "execution_count": 22,
   "id": "74f7fb64-2cb0-446d-88d9-1cb4b335060a",
   "metadata": {},
   "outputs": [
    {
     "name": "stdin",
     "output_type": "stream",
     "text": [
      "Enter a number:  8\n"
     ]
    },
    {
     "name": "stdout",
     "output_type": "stream",
     "text": [
      "The factorial of 8 is: 40320\n"
     ]
    }
   ],
   "source": [
    "n= int(input(\"Enter a number: \"))\n",
    "factorial = 1\n",
    "for i in range(1, n + 1):\n",
    "    factorial = factorial * i\n",
    "print(f\"The factorial of {n} is: {factorial}\")"
   ]
  },
  {
   "cell_type": "markdown",
   "id": "dcf91cc8-6522-4d60-ad17-ac43332815d4",
   "metadata": {},
   "source": [
    "# Exercise 6\n",
    "Reverse a number using while loop"
   ]
  },
  {
   "cell_type": "code",
   "execution_count": 14,
   "id": "f93c9bd0-2dc9-4db4-ba57-6cb8a9d586ca",
   "metadata": {},
   "outputs": [
    {
     "name": "stdin",
     "output_type": "stream",
     "text": [
      "Enter a number:  12345\n"
     ]
    },
    {
     "name": "stdout",
     "output_type": "stream",
     "text": [
      "Reversed number: 54321\n"
     ]
    }
   ],
   "source": [
    "n = int(input(\"Enter a number: \"))\n",
    "r_num = 0\n",
    "while n > 0:\n",
    "    d = n % 10\n",
    "    r_num = r_num * 10 + d\n",
    "    n = n // 10\n",
    "print(\"Reversed number:\", reversed_num)"
   ]
  },
  {
   "cell_type": "markdown",
   "id": "5944ed19-6e51-4363-9831-ba967315e785",
   "metadata": {},
   "source": [
    "## Exercise 7\n",
    "Finding the multiples of a number using loop\n"
   ]
  },
  {
   "cell_type": "code",
   "execution_count": 16,
   "id": "b31f3ce1-6587-4cd6-aac9-437904ae4f6c",
   "metadata": {},
   "outputs": [
    {
     "name": "stdin",
     "output_type": "stream",
     "text": [
      "Enter a number: 2\n",
      "Count for the multiplies need to find? 5\n"
     ]
    },
    {
     "name": "stdout",
     "output_type": "stream",
     "text": [
      "multiples of 2 are:\n",
      "2\n",
      "4\n",
      "6\n",
      "8\n",
      "10\n"
     ]
    }
   ],
   "source": [
    "n=int(input('Enter a number:'))\n",
    "count=int(input('Count for the multiplies need to find?'))\n",
    "print(f\"multiples of {n} are:\")\n",
    "for i in range(1,count +1):\n",
    "    multiple=n*i\n",
    "    print(multiple)"
   ]
  },
  {
   "cell_type": "markdown",
   "id": "689ec1a0-a154-4caf-abf0-2df0b70db0fd",
   "metadata": {},
   "source": [
    "## Exercise 8\n",
    "Write a program to print the inputted value as it is and break the loop if the value is 'done'.\n",
    "Example run of the program\n",
    ":hello there\n",
    "hello there\n",
    ":finished\n",
    "finished\n",
    ":done\n",
    "Done\n"
   ]
  },
  {
   "cell_type": "code",
   "execution_count": 18,
   "id": "5915f69c-a493-4231-a2a2-51dc34f855ec",
   "metadata": {},
   "outputs": [
    {
     "name": "stdin",
     "output_type": "stream",
     "text": [
      "Enter something (type 'done' to finish):  hi\n"
     ]
    },
    {
     "name": "stdout",
     "output_type": "stream",
     "text": [
      "hi\n"
     ]
    },
    {
     "name": "stdin",
     "output_type": "stream",
     "text": [
      "Enter something (type 'done' to finish):  ok\n"
     ]
    },
    {
     "name": "stdout",
     "output_type": "stream",
     "text": [
      "ok\n"
     ]
    },
    {
     "name": "stdin",
     "output_type": "stream",
     "text": [
      "Enter something (type 'done' to finish):  done\n"
     ]
    },
    {
     "name": "stdout",
     "output_type": "stream",
     "text": [
      "Done\n"
     ]
    }
   ],
   "source": [
    "while True:\n",
    "    user_input = input(\"Enter something (type 'done' to finish): \")\n",
    "    if user_input == 'done':\n",
    "        print(\"Done\")\n",
    "        break\n",
    "    print(user_input)"
   ]
  },
  {
   "cell_type": "markdown",
   "id": "bed106d0-a221-4fc7-af86-854c3231622d",
   "metadata": {},
   "source": [
    "## Exercise 9\n",
    "Write a program that prints the numbers from 1 to 10. But for multiples of three print \"Fizz\" instead of the number and for the multiple of five print \"Buzz\". For numbers which are multiples of both three and five print \"FizzBuzz\"\n"
   ]
  },
  {
   "cell_type": "code",
   "execution_count": 19,
   "id": "b18d5c64-0d5d-47d7-8fd7-c9a03098916f",
   "metadata": {},
   "outputs": [
    {
     "name": "stdout",
     "output_type": "stream",
     "text": [
      "1\n",
      "2\n",
      "Fizz\n",
      "4\n",
      "Buzz\n",
      "Fizz\n",
      "7\n",
      "8\n",
      "Fizz\n",
      "Buzz\n"
     ]
    }
   ],
   "source": [
    "for i in range(1, 11):\n",
    "    if i % 3 == 0:\n",
    "        print(\"Fizz\")\n",
    "    elif i % 5 == 0:\n",
    "        print(\"Buzz\")\n",
    "    elif i % 3 ==0 and i % 5 == 0:\n",
    "        print(\"FizzBuzz\")\n",
    "    else:\n",
    "        print(i)"
   ]
  },
  {
   "cell_type": "markdown",
   "id": "a8818000-c732-4e1d-9da0-6d7c8f56b9d1",
   "metadata": {},
   "source": [
    "## Exercise 10\n",
    "Write a program to print the following pattern:\n",
    "\n",
    "5 4 3 2 1\n",
    "4 3 2 1\n",
    "3 2 1\n",
    "2 1\n",
    "1\n"
   ]
  },
  {
   "cell_type": "code",
   "execution_count": 20,
   "id": "41e272a4-b1c0-4b6e-bf75-df527ab89ef8",
   "metadata": {},
   "outputs": [
    {
     "name": "stdout",
     "output_type": "stream",
     "text": [
      "54321\n",
      "4321\n",
      "321\n",
      "21\n",
      "1\n"
     ]
    }
   ],
   "source": [
    "n=5\n",
    "for i in range (n,0,-1):\n",
    "    for j in range(i,0,-1):\n",
    "        print(j,end='')\n",
    "    print()\n",
    "    "
   ]
  },
  {
   "cell_type": "code",
   "execution_count": null,
   "id": "9e049549-5ebc-48db-b011-e353c7bee8e4",
   "metadata": {},
   "outputs": [],
   "source": []
  }
 ],
 "metadata": {
  "kernelspec": {
   "display_name": "Python 3 (ipykernel)",
   "language": "python",
   "name": "python3"
  },
  "language_info": {
   "codemirror_mode": {
    "name": "ipython",
    "version": 3
   },
   "file_extension": ".py",
   "mimetype": "text/x-python",
   "name": "python",
   "nbconvert_exporter": "python",
   "pygments_lexer": "ipython3",
   "version": "3.12.7"
  }
 },
 "nbformat": 4,
 "nbformat_minor": 5
}
